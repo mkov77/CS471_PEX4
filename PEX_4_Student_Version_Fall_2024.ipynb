{
 "cells": [
  {
   "cell_type": "markdown",
   "metadata": {
    "id": "4KBl_Syo5Fc5"
   },
   "source": [
    "### Michaela Kovalsky\n",
    "### Julia Razzino\n",
    "### Documentation Statement"
   ]
  },
  {
   "cell_type": "markdown",
   "metadata": {
    "id": "wNElZJ2ZOEHQ"
   },
   "source": [
    "#YOLO! Lab\n",
    "## 40 Points\n",
    "\n",
    "In this lab, you will train the YOLO! object detection algorihtm to detect an object of your choice. As Roboflow data sets are public, DO NOT train a model to detect Proxy cards or ID cards. You will train the model, rapidly analyize the performance of your model, and then apply your model to the webcam on your computer for real-time object detetion.\n",
    "\n",
    "The graded objectives for the lab are:\n",
    "\n",
    "(10 pts) Collect and label data for use in building a custom YOLO model\n",
    "\n",
    "(10 pts) Train the YOLO model to high accuracy for your domain\n",
    "\n",
    "  **\"What is high accuracy?\" ... It depends on your domain. If you want to make sure you recieve full credit, write down all of your efforts to improve the accuracy of the model, and write a statement why you think you have achieved peak accuracy in this model. Charts and graphs will help to justify your stance.\n",
    "\n",
    "(10 pts) Use data analysis to interpret the Mean Average Precision, accuracy and recall of your model\n",
    "\n",
    "(10 pts) Enable object detection through a web camera. Recommend using a Roboflow project to enable your model to work with a webcam.\n",
    "\n",
    "Total: 40 points\n"
   ]
  },
  {
   "cell_type": "markdown",
   "metadata": {
    "id": "uFLMd6hqQ3q_"
   },
   "source": [
    "**AUTHORIZED RESOURCES:** Any material from the CS 471 course site and online resources. You may reuse online code as long as you describe what the code is doing in your comments and you modify it to solve this problem. Don't forget to document any online code sources.\n",
    "\n",
    "**NOTE:**\n",
    "\n",
    "*  Never copy another person’s or group’s work and submit it as your own.\n",
    "*  Do not jointly create a program or complete this assignment unless explicitly allowed.\n",
    "*   You must document all help received from sources other than your instructor or instructor-provided course materials (including your textbook).\n",
    "*   You can copy and paster code from previous in-class Yolo! exercises and the internet and then modify this code to work for the lab. Make sure you document the code that you copy and paste in your documentation statement.\n",
    "\n",
    "**Documentation Policy:**\n",
    "\n",
    "*   You must document all help received from any source other than your instructor or instructor-provided materials, including your textbook (unless directly quoting or paraphrasing).\n",
    "*   The documentation statement must explicitly describe WHAT assistance was provided, WHERE on the assignment the assistance was provided, and WHO provided the assistance, and HOW it was used in completing the assignment.\n",
    "*   If no help was received on this assignment, the documentation statement must state “None.”\n",
    "*   If you checked answers with anyone, you must document with whom on which problems. You must document whether or not you made any changes, and if you did make changes you must document the problems you changed and the reasons why.\n",
    "*   Vague documentation statements must be corrected before the assignment will be graded and will result in a 5% deduction on the assignment.\n",
    "\n",
    "**Turn-in Policies:**\n",
    "\n",
    "*   On-time turn-in is at the specific day and time listed on the course website.\n",
    "*   Post the required solution files to your Github Classroom repo.\n",
    "*   Only 1 turn-in required per team.\n",
    "\n",
    "\n",
    "\n",
    "\n"
   ]
  },
  {
   "cell_type": "markdown",
   "metadata": {
    "id": "b6p6HAuM4HGM"
   },
   "source": [
    "## (10 pts) Task 1 Train and Label data for use in building a custom YOLO model.\n",
    "I recommend creating an account with Roboflow.com to upload pictures and label the data set. There are several other tools available that you are welcome to use. If you use another tool, I will need a way to access your data; please provide that method in the text box below. If you use Roboflow, copy and paste 1-2 screenshots of your Roboflow repository (I can't access your repository so make sure I can tell what you have accomplished from the screenshots). You are welcome to copy, paste, and modify code we used in class to get you started on this PEX."
   ]
  },
  {
   "cell_type": "markdown",
   "metadata": {
    "id": "OzQB-nUy4u5p"
   },
   "source": [
    "### Answer to Task 1"
   ]
  },
  {
   "cell_type": "markdown",
   "metadata": {
    "id": "rKRqdZzf4xOx"
   },
   "source": [
    "## (10 pts) Task 2 Train a Yolo model to high accuracy.\n",
    "\n",
    "Keep a log of your experimentation with improving your model."
   ]
  },
  {
   "cell_type": "code",
   "execution_count": 10,
   "metadata": {
    "id": "OXTPCt0g5AHo"
   },
   "outputs": [
    {
     "name": "stdout",
     "output_type": "stream",
     "text": [
      "Collecting roboflow\n",
      "  Downloading roboflow-1.1.49-py3-none-any.whl.metadata (9.7 kB)\n",
      "Requirement already satisfied: certifi in c:\\users\\c25julia.razzino\\appdata\\local\\programs\\python\\python312\\lib\\site-packages (from roboflow) (2024.8.30)\n",
      "Collecting idna==3.7 (from roboflow)\n",
      "  Downloading idna-3.7-py3-none-any.whl.metadata (9.9 kB)\n",
      "Requirement already satisfied: cycler in c:\\users\\c25julia.razzino\\appdata\\local\\programs\\python\\python312\\lib\\site-packages (from roboflow) (0.12.1)\n",
      "Requirement already satisfied: kiwisolver>=1.3.1 in c:\\users\\c25julia.razzino\\appdata\\local\\programs\\python\\python312\\lib\\site-packages (from roboflow) (1.4.7)\n",
      "Requirement already satisfied: matplotlib in c:\\users\\c25julia.razzino\\appdata\\local\\programs\\python\\python312\\lib\\site-packages (from roboflow) (3.9.2)\n",
      "Requirement already satisfied: numpy>=1.18.5 in c:\\users\\c25julia.razzino\\appdata\\local\\programs\\python\\python312\\lib\\site-packages (from roboflow) (2.1.2)\n",
      "Collecting opencv-python-headless==4.10.0.84 (from roboflow)\n",
      "  Downloading opencv_python_headless-4.10.0.84-cp37-abi3-win_amd64.whl.metadata (20 kB)\n",
      "Requirement already satisfied: Pillow>=7.1.2 in c:\\users\\c25julia.razzino\\appdata\\local\\programs\\python\\python312\\lib\\site-packages (from roboflow) (11.0.0)\n",
      "Requirement already satisfied: python-dateutil in c:\\users\\c25julia.razzino\\appdata\\roaming\\python\\python312\\site-packages (from roboflow) (2.9.0.post0)\n",
      "Collecting python-dotenv (from roboflow)\n",
      "  Downloading python_dotenv-1.0.1-py3-none-any.whl.metadata (23 kB)\n",
      "Requirement already satisfied: requests in c:\\users\\c25julia.razzino\\appdata\\local\\programs\\python\\python312\\lib\\site-packages (from roboflow) (2.32.3)\n",
      "Requirement already satisfied: six in c:\\users\\c25julia.razzino\\appdata\\roaming\\python\\python312\\site-packages (from roboflow) (1.16.0)\n",
      "Requirement already satisfied: urllib3>=1.26.6 in c:\\users\\c25julia.razzino\\appdata\\local\\programs\\python\\python312\\lib\\site-packages (from roboflow) (2.2.3)\n",
      "Requirement already satisfied: tqdm>=4.41.0 in c:\\users\\c25julia.razzino\\appdata\\local\\programs\\python\\python312\\lib\\site-packages (from roboflow) (4.67.0)\n",
      "Requirement already satisfied: PyYAML>=5.3.1 in c:\\users\\c25julia.razzino\\appdata\\local\\programs\\python\\python312\\lib\\site-packages (from roboflow) (6.0.2)\n",
      "Collecting requests-toolbelt (from roboflow)\n",
      "  Downloading requests_toolbelt-1.0.0-py2.py3-none-any.whl.metadata (14 kB)\n",
      "Collecting filetype (from roboflow)\n",
      "  Downloading filetype-1.2.0-py2.py3-none-any.whl.metadata (6.5 kB)\n",
      "Requirement already satisfied: colorama in c:\\users\\c25julia.razzino\\appdata\\roaming\\python\\python312\\site-packages (from tqdm>=4.41.0->roboflow) (0.4.6)\n",
      "Requirement already satisfied: contourpy>=1.0.1 in c:\\users\\c25julia.razzino\\appdata\\local\\programs\\python\\python312\\lib\\site-packages (from matplotlib->roboflow) (1.3.1)\n",
      "Requirement already satisfied: fonttools>=4.22.0 in c:\\users\\c25julia.razzino\\appdata\\local\\programs\\python\\python312\\lib\\site-packages (from matplotlib->roboflow) (4.55.0)\n",
      "Requirement already satisfied: packaging>=20.0 in c:\\users\\c25julia.razzino\\appdata\\roaming\\python\\python312\\site-packages (from matplotlib->roboflow) (24.1)\n",
      "Requirement already satisfied: pyparsing>=2.3.1 in c:\\users\\c25julia.razzino\\appdata\\local\\programs\\python\\python312\\lib\\site-packages (from matplotlib->roboflow) (3.2.0)\n",
      "Requirement already satisfied: charset-normalizer<4,>=2 in c:\\users\\c25julia.razzino\\appdata\\local\\programs\\python\\python312\\lib\\site-packages (from requests->roboflow) (3.4.0)\n",
      "Downloading roboflow-1.1.49-py3-none-any.whl (80 kB)\n",
      "Downloading idna-3.7-py3-none-any.whl (66 kB)\n",
      "Downloading opencv_python_headless-4.10.0.84-cp37-abi3-win_amd64.whl (38.8 MB)\n",
      "   ---------------------------------------- 0.0/38.8 MB ? eta -:--:--\n",
      "   - -------------------------------------- 1.0/38.8 MB 5.6 MB/s eta 0:00:07\n",
      "   --- ------------------------------------ 3.4/38.8 MB 8.7 MB/s eta 0:00:05\n",
      "   ----- ---------------------------------- 5.5/38.8 MB 9.3 MB/s eta 0:00:04\n",
      "   -------- ------------------------------- 8.7/38.8 MB 10.7 MB/s eta 0:00:03\n",
      "   ------------ --------------------------- 12.1/38.8 MB 11.8 MB/s eta 0:00:03\n",
      "   --------------- ------------------------ 15.2/38.8 MB 12.3 MB/s eta 0:00:02\n",
      "   ------------------ --------------------- 17.8/38.8 MB 12.4 MB/s eta 0:00:02\n",
      "   ---------------------- ----------------- 21.5/38.8 MB 13.1 MB/s eta 0:00:02\n",
      "   -------------------------- ------------- 25.7/38.8 MB 13.8 MB/s eta 0:00:01\n",
      "   ----------------------------- ---------- 28.8/38.8 MB 14.0 MB/s eta 0:00:01\n",
      "   --------------------------------- ------ 32.2/38.8 MB 14.0 MB/s eta 0:00:01\n",
      "   ------------------------------------ --- 35.4/38.8 MB 14.1 MB/s eta 0:00:01\n",
      "   ---------------------------------------  38.0/38.8 MB 14.0 MB/s eta 0:00:01\n",
      "   ---------------------------------------- 38.8/38.8 MB 13.6 MB/s eta 0:00:00\n",
      "Downloading filetype-1.2.0-py2.py3-none-any.whl (19 kB)\n",
      "Downloading python_dotenv-1.0.1-py3-none-any.whl (19 kB)\n",
      "Downloading requests_toolbelt-1.0.0-py2.py3-none-any.whl (54 kB)\n",
      "Installing collected packages: filetype, python-dotenv, opencv-python-headless, idna, requests-toolbelt, roboflow\n"
     ]
    },
    {
     "name": "stderr",
     "output_type": "stream",
     "text": [
      "ERROR: Could not install packages due to an OSError: [WinError 5] Access is denied: 'C:\\\\Users\\\\C25Julia.Razzino\\\\AppData\\\\Local\\\\Programs\\\\Python\\\\Python312\\\\Lib\\\\site-packages\\\\cv2\\\\cv2.pyd'\n",
      "Consider using the `--user` option or check the permissions.\n",
      "\n"
     ]
    },
    {
     "ename": "ModuleNotFoundError",
     "evalue": "No module named 'roboflow'",
     "output_type": "error",
     "traceback": [
      "\u001b[1;31m---------------------------------------------------------------------------\u001b[0m",
      "\u001b[1;31mModuleNotFoundError\u001b[0m                       Traceback (most recent call last)",
      "Cell \u001b[1;32mIn[10], line 4\u001b[0m\n\u001b[0;32m      1\u001b[0m \u001b[38;5;66;03m##Answer to Task 2. Paste your code here. You may use code from the internet and in-class exercises\u001b[39;00m\n\u001b[0;32m      2\u001b[0m get_ipython()\u001b[38;5;241m.\u001b[39msystem(\u001b[38;5;124m'\u001b[39m\u001b[38;5;124mpip install roboflow\u001b[39m\u001b[38;5;124m'\u001b[39m)\n\u001b[1;32m----> 4\u001b[0m \u001b[38;5;28;01mfrom\u001b[39;00m \u001b[38;5;21;01mroboflow\u001b[39;00m \u001b[38;5;28;01mimport\u001b[39;00m Roboflow\n\u001b[0;32m      5\u001b[0m rf \u001b[38;5;241m=\u001b[39m Roboflow(api_key\u001b[38;5;241m=\u001b[39m\u001b[38;5;124m\"\u001b[39m\u001b[38;5;124mnUPZLNeGy74PSDO9jqQu\u001b[39m\u001b[38;5;124m\"\u001b[39m)\n\u001b[0;32m      6\u001b[0m project \u001b[38;5;241m=\u001b[39m rf\u001b[38;5;241m.\u001b[39mworkspace(\u001b[38;5;124m\"\u001b[39m\u001b[38;5;124mcs471-fall-2023\u001b[39m\u001b[38;5;124m\"\u001b[39m)\u001b[38;5;241m.\u001b[39mproject(\u001b[38;5;124m\"\u001b[39m\u001b[38;5;124maces-only\u001b[39m\u001b[38;5;124m\"\u001b[39m)\n",
      "\u001b[1;31mModuleNotFoundError\u001b[0m: No module named 'roboflow'"
     ]
    }
   ],
   "source": [
    "##Answer to Task 2. Paste your code here. You may use code from the internet and in-class exercises\n",
    "!pip install roboflow\n",
    "\n",
    "from roboflow import Roboflow\n",
    "rf = Roboflow(api_key=\"nUPZLNeGy74PSDO9jqQu\")\n",
    "project = rf.workspace(\"cs471-fall-2023\").project(\"aces-only\")\n",
    "dataset = project.version(1).download(\"yolov8\")"
   ]
  },
  {
   "cell_type": "markdown",
   "metadata": {
    "id": "qv40JgCq5WRI"
   },
   "source": [
    "## (10 pts) Task 3 Justify how well your model performs\n",
    "Provide charts showing at least the Mean Average Precision, Accuracy, and Recall of your model. Discuss the charts and what these results mean. You may want to include a discussion on overfitting and underfitting in your discussion."
   ]
  },
  {
   "cell_type": "code",
   "execution_count": null,
   "metadata": {
    "id": "dBi5Qy_n5m3L"
   },
   "outputs": [],
   "source": [
    "#Answer to Task 3. Place any code you use in this box"
   ]
  },
  {
   "cell_type": "markdown",
   "metadata": {
    "id": "EzJlZA7v5sR3"
   },
   "source": [
    "###Answer to Task 3.\n",
    "Add any discussion of your models to this box."
   ]
  },
  {
   "cell_type": "markdown",
   "metadata": {
    "id": "ys-bw08N5xVj"
   },
   "source": [
    "##(10 pts) Task 4. Record a Video to Test Your Model\n",
    "\n",
    "YOLOv8 has the ability to perform real-time detections using your webcam. Use the code provided in class to upload your trained model to Roboflow. Make sure you project is a public project and paste a link to your project in the Answer to Task 4 box, so I can look at your project for grading. Also, screen record your model operating on a web cam in case I am unable to access your roboflow project or I do not have access to the object you trained your model on.\n",
    "\n"
   ]
  },
  {
   "cell_type": "markdown",
   "metadata": {
    "id": "PRm7uMS5MU4O"
   },
   "source": [
    "###Answer to Task 4.\n",
    "Add any discussion of your models to this box."
   ]
  },
  {
   "cell_type": "code",
   "execution_count": null,
   "metadata": {
    "id": "gVSuo4C4524j"
   },
   "outputs": [],
   "source": [
    "##Answer to Task 4. Paste your code here. You may use code from the internet and in-class exercises"
   ]
  },
  {
   "cell_type": "markdown",
   "metadata": {
    "id": "ypCp6QEX6IB4"
   },
   "source": [
    "###Final Turn-In\n",
    "To submit your lab, download this notebook (File -> Download) and download the video you created with your YOLOv8 detections. Submit the notebook and your .mp4 file to the Lab Assignment on CANVAS. Don't forget your documentation statement at the top of this notebook."
   ]
  }
 ],
 "metadata": {
  "colab": {
   "provenance": []
  },
  "kernelspec": {
   "display_name": "Python 3",
   "name": "python3"
  },
  "language_info": {
   "codemirror_mode": {
    "name": "ipython",
    "version": 3
   },
   "file_extension": ".py",
   "mimetype": "text/x-python",
   "name": "python",
   "nbconvert_exporter": "python",
   "pygments_lexer": "ipython3",
   "version": "3.12.5"
  }
 },
 "nbformat": 4,
 "nbformat_minor": 0
}
