{
 "cells": [
  {
   "cell_type": "markdown",
   "metadata": {
    "id": "4KBl_Syo5Fc5"
   },
   "source": [
    "### Michaela Kovalsky\n",
    "### Julia Razzino\n",
    "### Documentation Statement"
   ]
  },
  {
   "cell_type": "markdown",
   "metadata": {
    "id": "wNElZJ2ZOEHQ"
   },
   "source": [
    "#YOLO! Lab\n",
    "## 40 Points\n",
    "\n",
    "In this lab, you will train the YOLO! object detection algorihtm to detect an object of your choice. As Roboflow data sets are public, DO NOT train a model to detect Proxy cards or ID cards. You will train the model, rapidly analyize the performance of your model, and then apply your model to the webcam on your computer for real-time object detetion.\n",
    "\n",
    "The graded objectives for the lab are:\n",
    "\n",
    "(10 pts) Collect and label data for use in building a custom YOLO model\n",
    "\n",
    "(10 pts) Train the YOLO model to high accuracy for your domain\n",
    "\n",
    "  **\"What is high accuracy?\" ... It depends on your domain. If you want to make sure you recieve full credit, write down all of your efforts to improve the accuracy of the model, and write a statement why you think you have achieved peak accuracy in this model. Charts and graphs will help to justify your stance.\n",
    "\n",
    "(10 pts) Use data analysis to interpret the Mean Average Precision, accuracy and recall of your model\n",
    "\n",
    "(10 pts) Enable object detection through a web camera. Recommend using a Roboflow project to enable your model to work with a webcam.\n",
    "\n",
    "Total: 40 points\n"
   ]
  },
  {
   "cell_type": "markdown",
   "metadata": {
    "id": "uFLMd6hqQ3q_"
   },
   "source": [
    "**AUTHORIZED RESOURCES:** Any material from the CS 471 course site and online resources. You may reuse online code as long as you describe what the code is doing in your comments and you modify it to solve this problem. Don't forget to document any online code sources.\n",
    "\n",
    "**NOTE:**\n",
    "\n",
    "*  Never copy another person’s or group’s work and submit it as your own.\n",
    "*  Do not jointly create a program or complete this assignment unless explicitly allowed.\n",
    "*   You must document all help received from sources other than your instructor or instructor-provided course materials (including your textbook).\n",
    "*   You can copy and paster code from previous in-class Yolo! exercises and the internet and then modify this code to work for the lab. Make sure you document the code that you copy and paste in your documentation statement.\n",
    "\n",
    "**Documentation Policy:**\n",
    "\n",
    "*   You must document all help received from any source other than your instructor or instructor-provided materials, including your textbook (unless directly quoting or paraphrasing).\n",
    "*   The documentation statement must explicitly describe WHAT assistance was provided, WHERE on the assignment the assistance was provided, and WHO provided the assistance, and HOW it was used in completing the assignment.\n",
    "*   If no help was received on this assignment, the documentation statement must state “None.”\n",
    "*   If you checked answers with anyone, you must document with whom on which problems. You must document whether or not you made any changes, and if you did make changes you must document the problems you changed and the reasons why.\n",
    "*   Vague documentation statements must be corrected before the assignment will be graded and will result in a 5% deduction on the assignment.\n",
    "\n",
    "**Turn-in Policies:**\n",
    "\n",
    "*   On-time turn-in is at the specific day and time listed on the course website.\n",
    "*   Post the required solution files to your Github Classroom repo.\n",
    "*   Only 1 turn-in required per team.\n",
    "\n",
    "\n",
    "\n",
    "\n"
   ]
  },
  {
   "cell_type": "markdown",
   "metadata": {
    "id": "b6p6HAuM4HGM"
   },
   "source": [
    "## (10 pts) Task 1 Train and Label data for use in building a custom YOLO model.\n",
    "I recommend creating an account with Roboflow.com to upload pictures and label the data set. There are several other tools available that you are welcome to use. If you use another tool, I will need a way to access your data; please provide that method in the text box below. If you use Roboflow, copy and paste 1-2 screenshots of your Roboflow repository (I can't access your repository so make sure I can tell what you have accomplished from the screenshots). You are welcome to copy, paste, and modify code we used in class to get you started on this PEX."
   ]
  },
  {
   "cell_type": "markdown",
   "metadata": {
    "id": "OzQB-nUy4u5p"
   },
   "source": [
    "### Answer to Task 1"
   ]
  },
  {
   "cell_type": "markdown",
   "metadata": {
    "id": "rKRqdZzf4xOx"
   },
   "source": [
    "## (10 pts) Task 2 Train a Yolo model to high accuracy.\n",
    "\n",
    "Keep a log of your experimentation with improving your model."
   ]
  },
  {
   "cell_type": "code",
   "execution_count": null,
   "metadata": {
    "id": "OXTPCt0g5AHo"
   },
   "outputs": [],
   "source": [
    "##Answer to Task 2. Paste your code here. You may use code from the internet and in-class exercises"
   ]
  },
  {
   "cell_type": "markdown",
   "metadata": {
    "id": "qv40JgCq5WRI"
   },
   "source": [
    "## (10 pts) Task 3 Justify how well your model performs\n",
    "Provide charts showing at least the Mean Average Precision, Accuracy, and Recall of your model. Discuss the charts and what these results mean. You may want to include a discussion on overfitting and underfitting in your discussion."
   ]
  },
  {
   "cell_type": "code",
   "execution_count": null,
   "metadata": {
    "id": "dBi5Qy_n5m3L"
   },
   "outputs": [],
   "source": [
    "#Answer to Task 3. Place any code you use in this box"
   ]
  },
  {
   "cell_type": "markdown",
   "metadata": {
    "id": "EzJlZA7v5sR3"
   },
   "source": [
    "###Answer to Task 3.\n",
    "Add any discussion of your models to this box."
   ]
  },
  {
   "cell_type": "markdown",
   "metadata": {
    "id": "ys-bw08N5xVj"
   },
   "source": [
    "##(10 pts) Task 4. Record a Video to Test Your Model\n",
    "\n",
    "YOLOv8 has the ability to perform real-time detections using your webcam. Use the code provided in class to upload your trained model to Roboflow. Make sure you project is a public project and paste a link to your project in the Answer to Task 4 box, so I can look at your project for grading. Also, screen record your model operating on a web cam in case I am unable to access your roboflow project or I do not have access to the object you trained your model on.\n",
    "\n"
   ]
  },
  {
   "cell_type": "markdown",
   "metadata": {
    "id": "PRm7uMS5MU4O"
   },
   "source": [
    "###Answer to Task 4.\n",
    "Add any discussion of your models to this box."
   ]
  },
  {
   "cell_type": "code",
   "execution_count": null,
   "metadata": {
    "id": "gVSuo4C4524j"
   },
   "outputs": [],
   "source": [
    "##Answer to Task 4. Paste your code here. You may use code from the internet and in-class exercises"
   ]
  },
  {
   "cell_type": "markdown",
   "metadata": {
    "id": "ypCp6QEX6IB4"
   },
   "source": [
    "###Final Turn-In\n",
    "To submit your lab, download this notebook (File -> Download) and download the video you created with your YOLOv8 detections. Submit the notebook and your .mp4 file to the Lab Assignment on CANVAS. Don't forget your documentation statement at the top of this notebook."
   ]
  }
 ],
 "metadata": {
  "colab": {
   "provenance": []
  },
  "kernelspec": {
   "display_name": "Python 3",
   "name": "python3"
  },
  "language_info": {
   "name": "python"
  }
 },
 "nbformat": 4,
 "nbformat_minor": 0
}
