{
 "cells": [
  {
   "cell_type": "markdown",
   "metadata": {
    "id": "4KBl_Syo5Fc5"
   },
   "source": [
    "### Michaela Kovalsky\n",
    "### Julia Razzino\n",
    "### Documentation Statement"
   ]
  },
  {
   "cell_type": "markdown",
   "metadata": {
    "id": "wNElZJ2ZOEHQ"
   },
   "source": [
    "#YOLO! Lab\n",
    "## 40 Points\n",
    "\n",
    "In this lab, you will train the YOLO! object detection algorihtm to detect an object of your choice. As Roboflow data sets are public, DO NOT train a model to detect Proxy cards or ID cards. You will train the model, rapidly analyize the performance of your model, and then apply your model to the webcam on your computer for real-time object detetion.\n",
    "\n",
    "The graded objectives for the lab are:\n",
    "\n",
    "(10 pts) Collect and label data for use in building a custom YOLO model\n",
    "\n",
    "(10 pts) Train the YOLO model to high accuracy for your domain\n",
    "\n",
    "  **\"What is high accuracy?\" ... It depends on your domain. If you want to make sure you recieve full credit, write down all of your efforts to improve the accuracy of the model, and write a statement why you think you have achieved peak accuracy in this model. Charts and graphs will help to justify your stance.\n",
    "\n",
    "(10 pts) Use data analysis to interpret the Mean Average Precision, accuracy and recall of your model\n",
    "\n",
    "(10 pts) Enable object detection through a web camera. Recommend using a Roboflow project to enable your model to work with a webcam.\n",
    "\n",
    "Total: 40 points\n"
   ]
  },
  {
   "cell_type": "markdown",
   "metadata": {
    "id": "uFLMd6hqQ3q_"
   },
   "source": [
    "**AUTHORIZED RESOURCES:** Any material from the CS 471 course site and online resources. You may reuse online code as long as you describe what the code is doing in your comments and you modify it to solve this problem. Don't forget to document any online code sources.\n",
    "\n",
    "**NOTE:**\n",
    "\n",
    "*  Never copy another person’s or group’s work and submit it as your own.\n",
    "*  Do not jointly create a program or complete this assignment unless explicitly allowed.\n",
    "*   You must document all help received from sources other than your instructor or instructor-provided course materials (including your textbook).\n",
    "*   You can copy and paster code from previous in-class Yolo! exercises and the internet and then modify this code to work for the lab. Make sure you document the code that you copy and paste in your documentation statement.\n",
    "\n",
    "**Documentation Policy:**\n",
    "\n",
    "*   You must document all help received from any source other than your instructor or instructor-provided materials, including your textbook (unless directly quoting or paraphrasing).\n",
    "*   The documentation statement must explicitly describe WHAT assistance was provided, WHERE on the assignment the assistance was provided, and WHO provided the assistance, and HOW it was used in completing the assignment.\n",
    "*   If no help was received on this assignment, the documentation statement must state “None.”\n",
    "*   If you checked answers with anyone, you must document with whom on which problems. You must document whether or not you made any changes, and if you did make changes you must document the problems you changed and the reasons why.\n",
    "*   Vague documentation statements must be corrected before the assignment will be graded and will result in a 5% deduction on the assignment.\n",
    "\n",
    "**Turn-in Policies:**\n",
    "\n",
    "*   On-time turn-in is at the specific day and time listed on the course website.\n",
    "*   Post the required solution files to your Github Classroom repo.\n",
    "*   Only 1 turn-in required per team.\n",
    "\n",
    "\n",
    "\n",
    "\n"
   ]
  },
  {
   "cell_type": "markdown",
   "metadata": {
    "id": "b6p6HAuM4HGM"
   },
   "source": [
    "## (10 pts) Task 1 Train and Label data for use in building a custom YOLO model.\n",
    "I recommend creating an account with Roboflow.com to upload pictures and label the data set. There are several other tools available that you are welcome to use. If you use another tool, I will need a way to access your data; please provide that method in the text box below. If you use Roboflow, copy and paste 1-2 screenshots of your Roboflow repository (I can't access your repository so make sure I can tell what you have accomplished from the screenshots). You are welcome to copy, paste, and modify code we used in class to get you started on this PEX."
   ]
  },
  {
   "cell_type": "markdown",
   "metadata": {
    "id": "OzQB-nUy4u5p"
   },
   "source": [
    "### Answer to Task 1"
   ]
  },
  {
   "cell_type": "markdown",
   "metadata": {
    "id": "rKRqdZzf4xOx"
   },
   "source": [
    "## (10 pts) Task 2 Train a Yolo model to high accuracy.\n",
    "\n",
    "Keep a log of your experimentation with improving your model."
   ]
  },
  {
   "cell_type": "code",
   "execution_count": 15,
   "metadata": {},
   "outputs": [
    {
     "ename": "AttributeError",
     "evalue": "module 'torch' has no attribute '__version__'",
     "output_type": "error",
     "traceback": [
      "\u001b[1;31m---------------------------------------------------------------------------\u001b[0m",
      "\u001b[1;31mAttributeError\u001b[0m                            Traceback (most recent call last)",
      "Cell \u001b[1;32mIn[15], line 1\u001b[0m\n\u001b[1;32m----> 1\u001b[0m \u001b[38;5;28;01mfrom\u001b[39;00m \u001b[38;5;21;01multralytics\u001b[39;00m \u001b[38;5;28;01mimport\u001b[39;00m YOLO\n",
      "File \u001b[1;32mc:\\Users\\C25Julia.Razzino\\AppData\\Local\\Programs\\Python\\Python312\\Lib\\site-packages\\ultralytics\\__init__.py:11\u001b[0m\n\u001b[0;32m      8\u001b[0m \u001b[38;5;28;01mif\u001b[39;00m \u001b[38;5;129;01mnot\u001b[39;00m os\u001b[38;5;241m.\u001b[39menviron\u001b[38;5;241m.\u001b[39mget(\u001b[38;5;124m\"\u001b[39m\u001b[38;5;124mOMP_NUM_THREADS\u001b[39m\u001b[38;5;124m\"\u001b[39m):\n\u001b[0;32m      9\u001b[0m     os\u001b[38;5;241m.\u001b[39menviron[\u001b[38;5;124m\"\u001b[39m\u001b[38;5;124mOMP_NUM_THREADS\u001b[39m\u001b[38;5;124m\"\u001b[39m] \u001b[38;5;241m=\u001b[39m \u001b[38;5;124m\"\u001b[39m\u001b[38;5;124m1\u001b[39m\u001b[38;5;124m\"\u001b[39m  \u001b[38;5;66;03m# default for reduced CPU utilization during training\u001b[39;00m\n\u001b[1;32m---> 11\u001b[0m \u001b[38;5;28;01mfrom\u001b[39;00m \u001b[38;5;21;01multralytics\u001b[39;00m\u001b[38;5;21;01m.\u001b[39;00m\u001b[38;5;21;01mmodels\u001b[39;00m \u001b[38;5;28;01mimport\u001b[39;00m NAS, RTDETR, SAM, YOLO, FastSAM, YOLOWorld\n\u001b[0;32m     12\u001b[0m \u001b[38;5;28;01mfrom\u001b[39;00m \u001b[38;5;21;01multralytics\u001b[39;00m\u001b[38;5;21;01m.\u001b[39;00m\u001b[38;5;21;01mutils\u001b[39;00m \u001b[38;5;28;01mimport\u001b[39;00m ASSETS, SETTINGS\n\u001b[0;32m     13\u001b[0m \u001b[38;5;28;01mfrom\u001b[39;00m \u001b[38;5;21;01multralytics\u001b[39;00m\u001b[38;5;21;01m.\u001b[39;00m\u001b[38;5;21;01mutils\u001b[39;00m\u001b[38;5;21;01m.\u001b[39;00m\u001b[38;5;21;01mchecks\u001b[39;00m \u001b[38;5;28;01mimport\u001b[39;00m check_yolo \u001b[38;5;28;01mas\u001b[39;00m checks\n",
      "File \u001b[1;32mc:\\Users\\C25Julia.Razzino\\AppData\\Local\\Programs\\Python\\Python312\\Lib\\site-packages\\ultralytics\\models\\__init__.py:3\u001b[0m\n\u001b[0;32m      1\u001b[0m \u001b[38;5;66;03m# Ultralytics YOLO 🚀, AGPL-3.0 license\u001b[39;00m\n\u001b[1;32m----> 3\u001b[0m \u001b[38;5;28;01mfrom\u001b[39;00m \u001b[38;5;21;01m.\u001b[39;00m\u001b[38;5;21;01mfastsam\u001b[39;00m \u001b[38;5;28;01mimport\u001b[39;00m FastSAM\n\u001b[0;32m      4\u001b[0m \u001b[38;5;28;01mfrom\u001b[39;00m \u001b[38;5;21;01m.\u001b[39;00m\u001b[38;5;21;01mnas\u001b[39;00m \u001b[38;5;28;01mimport\u001b[39;00m NAS\n\u001b[0;32m      5\u001b[0m \u001b[38;5;28;01mfrom\u001b[39;00m \u001b[38;5;21;01m.\u001b[39;00m\u001b[38;5;21;01mrtdetr\u001b[39;00m \u001b[38;5;28;01mimport\u001b[39;00m RTDETR\n",
      "File \u001b[1;32mc:\\Users\\C25Julia.Razzino\\AppData\\Local\\Programs\\Python\\Python312\\Lib\\site-packages\\ultralytics\\models\\fastsam\\__init__.py:3\u001b[0m\n\u001b[0;32m      1\u001b[0m \u001b[38;5;66;03m# Ultralytics YOLO 🚀, AGPL-3.0 license\u001b[39;00m\n\u001b[1;32m----> 3\u001b[0m \u001b[38;5;28;01mfrom\u001b[39;00m \u001b[38;5;21;01m.\u001b[39;00m\u001b[38;5;21;01mmodel\u001b[39;00m \u001b[38;5;28;01mimport\u001b[39;00m FastSAM\n\u001b[0;32m      4\u001b[0m \u001b[38;5;28;01mfrom\u001b[39;00m \u001b[38;5;21;01m.\u001b[39;00m\u001b[38;5;21;01mpredict\u001b[39;00m \u001b[38;5;28;01mimport\u001b[39;00m FastSAMPredictor\n\u001b[0;32m      5\u001b[0m \u001b[38;5;28;01mfrom\u001b[39;00m \u001b[38;5;21;01m.\u001b[39;00m\u001b[38;5;21;01mval\u001b[39;00m \u001b[38;5;28;01mimport\u001b[39;00m FastSAMValidator\n",
      "File \u001b[1;32mc:\\Users\\C25Julia.Razzino\\AppData\\Local\\Programs\\Python\\Python312\\Lib\\site-packages\\ultralytics\\models\\fastsam\\model.py:5\u001b[0m\n\u001b[0;32m      1\u001b[0m \u001b[38;5;66;03m# Ultralytics YOLO 🚀, AGPL-3.0 license\u001b[39;00m\n\u001b[0;32m      3\u001b[0m \u001b[38;5;28;01mfrom\u001b[39;00m \u001b[38;5;21;01mpathlib\u001b[39;00m \u001b[38;5;28;01mimport\u001b[39;00m Path\n\u001b[1;32m----> 5\u001b[0m \u001b[38;5;28;01mfrom\u001b[39;00m \u001b[38;5;21;01multralytics\u001b[39;00m\u001b[38;5;21;01m.\u001b[39;00m\u001b[38;5;21;01mengine\u001b[39;00m\u001b[38;5;21;01m.\u001b[39;00m\u001b[38;5;21;01mmodel\u001b[39;00m \u001b[38;5;28;01mimport\u001b[39;00m Model\n\u001b[0;32m      7\u001b[0m \u001b[38;5;28;01mfrom\u001b[39;00m \u001b[38;5;21;01m.\u001b[39;00m\u001b[38;5;21;01mpredict\u001b[39;00m \u001b[38;5;28;01mimport\u001b[39;00m FastSAMPredictor\n\u001b[0;32m      8\u001b[0m \u001b[38;5;28;01mfrom\u001b[39;00m \u001b[38;5;21;01m.\u001b[39;00m\u001b[38;5;21;01mval\u001b[39;00m \u001b[38;5;28;01mimport\u001b[39;00m FastSAMValidator\n",
      "File \u001b[1;32mc:\\Users\\C25Julia.Razzino\\AppData\\Local\\Programs\\Python\\Python312\\Lib\\site-packages\\ultralytics\\engine\\model.py:11\u001b[0m\n\u001b[0;32m      8\u001b[0m \u001b[38;5;28;01mimport\u001b[39;00m \u001b[38;5;21;01mtorch\u001b[39;00m\n\u001b[0;32m      9\u001b[0m \u001b[38;5;28;01mfrom\u001b[39;00m \u001b[38;5;21;01mPIL\u001b[39;00m \u001b[38;5;28;01mimport\u001b[39;00m Image\n\u001b[1;32m---> 11\u001b[0m \u001b[38;5;28;01mfrom\u001b[39;00m \u001b[38;5;21;01multralytics\u001b[39;00m\u001b[38;5;21;01m.\u001b[39;00m\u001b[38;5;21;01mcfg\u001b[39;00m \u001b[38;5;28;01mimport\u001b[39;00m TASK2DATA, get_cfg, get_save_dir\n\u001b[0;32m     12\u001b[0m \u001b[38;5;28;01mfrom\u001b[39;00m \u001b[38;5;21;01multralytics\u001b[39;00m\u001b[38;5;21;01m.\u001b[39;00m\u001b[38;5;21;01mengine\u001b[39;00m\u001b[38;5;21;01m.\u001b[39;00m\u001b[38;5;21;01mresults\u001b[39;00m \u001b[38;5;28;01mimport\u001b[39;00m Results\n\u001b[0;32m     13\u001b[0m \u001b[38;5;28;01mfrom\u001b[39;00m \u001b[38;5;21;01multralytics\u001b[39;00m\u001b[38;5;21;01m.\u001b[39;00m\u001b[38;5;21;01mhub\u001b[39;00m \u001b[38;5;28;01mimport\u001b[39;00m HUB_WEB_ROOT, HUBTrainingSession\n",
      "File \u001b[1;32mc:\\Users\\C25Julia.Razzino\\AppData\\Local\\Programs\\Python\\Python312\\Lib\\site-packages\\ultralytics\\cfg\\__init__.py:12\u001b[0m\n\u001b[0;32m      8\u001b[0m \u001b[38;5;28;01mfrom\u001b[39;00m \u001b[38;5;21;01mtyping\u001b[39;00m \u001b[38;5;28;01mimport\u001b[39;00m Dict, List, Union\n\u001b[0;32m     10\u001b[0m \u001b[38;5;28;01mimport\u001b[39;00m \u001b[38;5;21;01mcv2\u001b[39;00m\n\u001b[1;32m---> 12\u001b[0m \u001b[38;5;28;01mfrom\u001b[39;00m \u001b[38;5;21;01multralytics\u001b[39;00m\u001b[38;5;21;01m.\u001b[39;00m\u001b[38;5;21;01mutils\u001b[39;00m \u001b[38;5;28;01mimport\u001b[39;00m (\n\u001b[0;32m     13\u001b[0m     ASSETS,\n\u001b[0;32m     14\u001b[0m     ASSETS_URL,\n\u001b[0;32m     15\u001b[0m     DEFAULT_CFG,\n\u001b[0;32m     16\u001b[0m     DEFAULT_CFG_DICT,\n\u001b[0;32m     17\u001b[0m     DEFAULT_CFG_PATH,\n\u001b[0;32m     18\u001b[0m     DEFAULT_SOL_DICT,\n\u001b[0;32m     19\u001b[0m     IS_VSCODE,\n\u001b[0;32m     20\u001b[0m     LOGGER,\n\u001b[0;32m     21\u001b[0m     RANK,\n\u001b[0;32m     22\u001b[0m     ROOT,\n\u001b[0;32m     23\u001b[0m     RUNS_DIR,\n\u001b[0;32m     24\u001b[0m     SETTINGS,\n\u001b[0;32m     25\u001b[0m     SETTINGS_FILE,\n\u001b[0;32m     26\u001b[0m     TESTS_RUNNING,\n\u001b[0;32m     27\u001b[0m     IterableSimpleNamespace,\n\u001b[0;32m     28\u001b[0m     __version__,\n\u001b[0;32m     29\u001b[0m     checks,\n\u001b[0;32m     30\u001b[0m     colorstr,\n\u001b[0;32m     31\u001b[0m     deprecation_warn,\n\u001b[0;32m     32\u001b[0m     vscode_msg,\n\u001b[0;32m     33\u001b[0m     yaml_load,\n\u001b[0;32m     34\u001b[0m     yaml_print,\n\u001b[0;32m     35\u001b[0m )\n\u001b[0;32m     37\u001b[0m \u001b[38;5;66;03m# Define valid solutions\u001b[39;00m\n\u001b[0;32m     38\u001b[0m SOLUTION_MAP \u001b[38;5;241m=\u001b[39m {\n\u001b[0;32m     39\u001b[0m     \u001b[38;5;124m\"\u001b[39m\u001b[38;5;124mcount\u001b[39m\u001b[38;5;124m\"\u001b[39m: (\u001b[38;5;124m\"\u001b[39m\u001b[38;5;124mObjectCounter\u001b[39m\u001b[38;5;124m\"\u001b[39m, \u001b[38;5;124m\"\u001b[39m\u001b[38;5;124mcount\u001b[39m\u001b[38;5;124m\"\u001b[39m),\n\u001b[0;32m     40\u001b[0m     \u001b[38;5;124m\"\u001b[39m\u001b[38;5;124mheatmap\u001b[39m\u001b[38;5;124m\"\u001b[39m: (\u001b[38;5;124m\"\u001b[39m\u001b[38;5;124mHeatmap\u001b[39m\u001b[38;5;124m\"\u001b[39m, \u001b[38;5;124m\"\u001b[39m\u001b[38;5;124mgenerate_heatmap\u001b[39m\u001b[38;5;124m\"\u001b[39m),\n\u001b[1;32m   (...)\u001b[0m\n\u001b[0;32m     45\u001b[0m     \u001b[38;5;124m\"\u001b[39m\u001b[38;5;124mhelp\u001b[39m\u001b[38;5;124m\"\u001b[39m: \u001b[38;5;28;01mNone\u001b[39;00m,\n\u001b[0;32m     46\u001b[0m }\n",
      "File \u001b[1;32mc:\\Users\\C25Julia.Razzino\\AppData\\Local\\Programs\\Python\\Python312\\Lib\\site-packages\\ultralytics\\utils\\__init__.py:51\u001b[0m\n\u001b[0;32m     49\u001b[0m ARM64 \u001b[38;5;241m=\u001b[39m platform\u001b[38;5;241m.\u001b[39mmachine() \u001b[38;5;129;01min\u001b[39;00m {\u001b[38;5;124m\"\u001b[39m\u001b[38;5;124marm64\u001b[39m\u001b[38;5;124m\"\u001b[39m, \u001b[38;5;124m\"\u001b[39m\u001b[38;5;124maarch64\u001b[39m\u001b[38;5;124m\"\u001b[39m}  \u001b[38;5;66;03m# ARM64 booleans\u001b[39;00m\n\u001b[0;32m     50\u001b[0m PYTHON_VERSION \u001b[38;5;241m=\u001b[39m platform\u001b[38;5;241m.\u001b[39mpython_version()\n\u001b[1;32m---> 51\u001b[0m TORCH_VERSION \u001b[38;5;241m=\u001b[39m \u001b[43mtorch\u001b[49m\u001b[38;5;241;43m.\u001b[39;49m\u001b[43m__version__\u001b[49m\n\u001b[0;32m     52\u001b[0m TORCHVISION_VERSION \u001b[38;5;241m=\u001b[39m importlib\u001b[38;5;241m.\u001b[39mmetadata\u001b[38;5;241m.\u001b[39mversion(\u001b[38;5;124m\"\u001b[39m\u001b[38;5;124mtorchvision\u001b[39m\u001b[38;5;124m\"\u001b[39m)  \u001b[38;5;66;03m# faster than importing torchvision\u001b[39;00m\n\u001b[0;32m     53\u001b[0m IS_VSCODE \u001b[38;5;241m=\u001b[39m os\u001b[38;5;241m.\u001b[39menviron\u001b[38;5;241m.\u001b[39mget(\u001b[38;5;124m\"\u001b[39m\u001b[38;5;124mTERM_PROGRAM\u001b[39m\u001b[38;5;124m\"\u001b[39m, \u001b[38;5;28;01mFalse\u001b[39;00m) \u001b[38;5;241m==\u001b[39m \u001b[38;5;124m\"\u001b[39m\u001b[38;5;124mvscode\u001b[39m\u001b[38;5;124m\"\u001b[39m\n",
      "\u001b[1;31mAttributeError\u001b[0m: module 'torch' has no attribute '__version__'"
     ]
    }
   ],
   "source": [
    "from ultralytics import YOLO"
   ]
  },
  {
   "cell_type": "code",
   "execution_count": 13,
   "metadata": {
    "id": "OXTPCt0g5AHo"
   },
   "outputs": [
    {
     "name": "stdout",
     "output_type": "stream",
     "text": [
      "Creating new Ultralytics Settings v0.0.6 file ✅ \n",
      "View Ultralytics Settings with 'yolo settings' or at 'C:\\Users\\C25Julia.Razzino\\AppData\\Roaming\\Ultralytics\\settings.json'\n",
      "Update Settings with 'yolo settings key=value', i.e. 'yolo settings runs_dir=path/to/dir'. For help see https://docs.ultralytics.com/quickstart/#ultralytics-settings.\n",
      "Downloading https://github.com/ultralytics/assets/releases/download/v8.3.0/yolov8n.pt to 'yolov8n.pt'...\n",
      "Ultralytics 8.3.33 🚀 Python-3.12.5 torch-2.5.1+cpu CPU (11th Gen Intel Core(TM) i7-1165G7 2.80GHz)\n",
      "\u001b[34m\u001b[1mengine\\trainer: \u001b[0mtask=detect, mode=train, model=yolov8n.pt, data=C://Users//C25Julia.Razzino//Downloads//CS471_PEX4//PEX4.v1i.yolov8//train, epochs=1500, time=None, patience=0, batch=16, imgsz=640, save=True, save_period=-1, cache=False, device=None, workers=8, project=None, name=train, exist_ok=False, pretrained=True, optimizer=auto, verbose=True, seed=0, deterministic=True, single_cls=False, rect=False, cos_lr=False, close_mosaic=10, resume=False, amp=True, fraction=1.0, profile=False, freeze=None, multi_scale=False, overlap_mask=True, mask_ratio=4, dropout=0.0, val=True, split=val, save_json=False, save_hybrid=False, conf=None, iou=0.7, max_det=300, half=False, dnn=False, plots=True, source=None, vid_stride=1, stream_buffer=False, visualize=False, augment=False, agnostic_nms=False, classes=None, retina_masks=False, embed=None, show=False, save_frames=False, save_txt=False, save_conf=False, save_crop=False, show_labels=True, show_conf=True, show_boxes=True, line_width=None, format=torchscript, keras=False, optimize=False, int8=False, dynamic=False, simplify=True, opset=None, workspace=4, nms=False, lr0=0.01, lrf=0.01, momentum=0.937, weight_decay=0.0005, warmup_epochs=3.0, warmup_momentum=0.8, warmup_bias_lr=0.1, box=7.5, cls=0.5, dfl=1.5, pose=12.0, kobj=1.0, label_smoothing=0.0, nbs=64, hsv_h=0.015, hsv_s=0.7, hsv_v=0.4, degrees=0.0, translate=0.1, scale=0.5, shear=0.0, perspective=0.0, flipud=0.0, fliplr=0.5, bgr=0.0, mosaic=1.0, mixup=0.0, copy_paste=0.0, copy_paste_mode=flip, auto_augment=randaugment, erasing=0.4, crop_fraction=1.0, cfg=None, tracker=botsort.yaml, save_dir=runs\\detect\\train\n"
     ]
    },
    {
     "name": "stderr",
     "output_type": "stream",
     "text": [
      "\n",
      "  0%|          | 0.00/6.25M [00:00<?, ?B/s]\n",
      " 30%|███       | 1.88M/6.25M [00:00<00:00, 18.1MB/s]\n",
      " 68%|██████▊   | 4.25M/6.25M [00:00<00:00, 21.4MB/s]\n",
      "100%|██████████| 6.25M/6.25M [00:00<00:00, 20.7MB/s]\n",
      "Traceback (most recent call last):\n",
      "  File \"c:\\Users\\C25Julia.Razzino\\AppData\\Local\\Programs\\Python\\Python312\\Lib\\site-packages\\ultralytics\\engine\\trainer.py\", line 562, in get_dataset\n",
      "    data = check_det_dataset(self.args.data)\n",
      "           ^^^^^^^^^^^^^^^^^^^^^^^^^^^^^^^^^\n",
      "  File \"c:\\Users\\C25Julia.Razzino\\AppData\\Local\\Programs\\Python\\Python312\\Lib\\site-packages\\ultralytics\\data\\utils.py\", line 273, in check_det_dataset\n",
      "    if zipfile.is_zipfile(file) or is_tarfile(file):\n",
      "                                   ^^^^^^^^^^^^^^^^\n",
      "  File \"c:\\Users\\C25Julia.Razzino\\AppData\\Local\\Programs\\Python\\Python312\\Lib\\tarfile.py\", line 2795, in is_tarfile\n",
      "    t = open(name)\n",
      "        ^^^^^^^^^^\n",
      "  File \"c:\\Users\\C25Julia.Razzino\\AppData\\Local\\Programs\\Python\\Python312\\Lib\\tarfile.py\", line 1802, in open\n",
      "    return func(name, \"r\", fileobj, **kwargs)\n",
      "           ^^^^^^^^^^^^^^^^^^^^^^^^^^^^^^^^^^\n",
      "  File \"c:\\Users\\C25Julia.Razzino\\AppData\\Local\\Programs\\Python\\Python312\\Lib\\tarfile.py\", line 1870, in gzopen\n",
      "    fileobj = GzipFile(name, mode + \"b\", compresslevel, fileobj)\n",
      "              ^^^^^^^^^^^^^^^^^^^^^^^^^^^^^^^^^^^^^^^^^^^^^^^^^^\n",
      "  File \"c:\\Users\\C25Julia.Razzino\\AppData\\Local\\Programs\\Python\\Python312\\Lib\\gzip.py\", line 192, in __init__\n",
      "    fileobj = self.myfileobj = builtins.open(filename, mode or 'rb')\n",
      "                               ^^^^^^^^^^^^^^^^^^^^^^^^^^^^^^^^^^^^^\n",
      "PermissionError: [Errno 13] Permission denied: 'C:\\\\Users\\\\C25Julia.Razzino\\\\Downloads\\\\CS471_PEX4\\\\PEX4.v1i.yolov8\\\\train'\n",
      "\n",
      "The above exception was the direct cause of the following exception:\n",
      "\n",
      "Traceback (most recent call last):\n",
      "  File \"<frozen runpy>\", line 198, in _run_module_as_main\n",
      "  File \"<frozen runpy>\", line 88, in _run_code\n",
      "  File \"C:\\Users\\C25Julia.Razzino\\AppData\\Local\\Programs\\Python\\Python312\\Scripts\\yolo.exe\\__main__.py\", line 7, in <module>\n",
      "  File \"c:\\Users\\C25Julia.Razzino\\AppData\\Local\\Programs\\Python\\Python312\\Lib\\site-packages\\ultralytics\\cfg\\__init__.py\", line 969, in entrypoint\n",
      "    getattr(model, mode)(**overrides)  # default args from model\n",
      "    ^^^^^^^^^^^^^^^^^^^^^^^^^^^^^^^^^\n",
      "  File \"c:\\Users\\C25Julia.Razzino\\AppData\\Local\\Programs\\Python\\Python312\\Lib\\site-packages\\ultralytics\\engine\\model.py\", line 796, in train\n",
      "    self.trainer = (trainer or self._smart_load(\"trainer\"))(overrides=args, _callbacks=self.callbacks)\n",
      "                   ^^^^^^^^^^^^^^^^^^^^^^^^^^^^^^^^^^^^^^^^^^^^^^^^^^^^^^^^^^^^^^^^^^^^^^^^^^^^^^^^^^^\n",
      "  File \"c:\\Users\\C25Julia.Razzino\\AppData\\Local\\Programs\\Python\\Python312\\Lib\\site-packages\\ultralytics\\engine\\trainer.py\", line 133, in __init__\n",
      "    self.trainset, self.testset = self.get_dataset()\n",
      "                                  ^^^^^^^^^^^^^^^^^^\n",
      "  File \"c:\\Users\\C25Julia.Razzino\\AppData\\Local\\Programs\\Python\\Python312\\Lib\\site-packages\\ultralytics\\engine\\trainer.py\", line 566, in get_dataset\n",
      "    raise RuntimeError(emojis(f\"Dataset '{clean_url(self.args.data)}' error ❌ {e}\")) from e\n",
      "RuntimeError: Dataset 'C://Users/C25Julia.Razzino/Downloads/CS471_PEX4/PEX4.v1i.yolov8/train' error  [Errno 13] Permission denied: 'C:\\\\Users\\\\C25Julia.Razzino\\\\Downloads\\\\CS471_PEX4\\\\PEX4.v1i.yolov8\\\\train'\n"
     ]
    }
   ],
   "source": [
    "##Answer to Task 2. Paste your code here. You may use code from the internet and in-class exercises\n",
    "!yolo train model=yolov8n.pt data=C://Users//C25Julia.Razzino//Downloads//CS471_PEX4//PEX4.v1i.yolov8//train epochs=1500 imgsz=640 patience=0"
   ]
  },
  {
   "cell_type": "markdown",
   "metadata": {
    "id": "qv40JgCq5WRI"
   },
   "source": [
    "## (10 pts) Task 3 Justify how well your model performs\n",
    "Provide charts showing at least the Mean Average Precision, Accuracy, and Recall of your model. Discuss the charts and what these results mean. You may want to include a discussion on overfitting and underfitting in your discussion."
   ]
  },
  {
   "cell_type": "code",
   "execution_count": null,
   "metadata": {
    "id": "dBi5Qy_n5m3L"
   },
   "outputs": [],
   "source": [
    "#Answer to Task 3. Place any code you use in this box"
   ]
  },
  {
   "cell_type": "markdown",
   "metadata": {
    "id": "EzJlZA7v5sR3"
   },
   "source": [
    "###Answer to Task 3.\n",
    "Add any discussion of your models to this box."
   ]
  },
  {
   "cell_type": "markdown",
   "metadata": {
    "id": "ys-bw08N5xVj"
   },
   "source": [
    "##(10 pts) Task 4. Record a Video to Test Your Model\n",
    "\n",
    "YOLOv8 has the ability to perform real-time detections using your webcam. Use the code provided in class to upload your trained model to Roboflow. Make sure you project is a public project and paste a link to your project in the Answer to Task 4 box, so I can look at your project for grading. Also, screen record your model operating on a web cam in case I am unable to access your roboflow project or I do not have access to the object you trained your model on.\n",
    "\n"
   ]
  },
  {
   "cell_type": "markdown",
   "metadata": {
    "id": "PRm7uMS5MU4O"
   },
   "source": [
    "###Answer to Task 4.\n",
    "Add any discussion of your models to this box."
   ]
  },
  {
   "cell_type": "code",
   "execution_count": null,
   "metadata": {
    "id": "gVSuo4C4524j"
   },
   "outputs": [],
   "source": [
    "##Answer to Task 4. Paste your code here. You may use code from the internet and in-class exercises"
   ]
  },
  {
   "cell_type": "markdown",
   "metadata": {
    "id": "ypCp6QEX6IB4"
   },
   "source": [
    "###Final Turn-In\n",
    "To submit your lab, download this notebook (File -> Download) and download the video you created with your YOLOv8 detections. Submit the notebook and your .mp4 file to the Lab Assignment on CANVAS. Don't forget your documentation statement at the top of this notebook."
   ]
  }
 ],
 "metadata": {
  "colab": {
   "provenance": []
  },
  "kernelspec": {
   "display_name": "Python 3",
   "name": "python3"
  },
  "language_info": {
   "codemirror_mode": {
    "name": "ipython",
    "version": 3
   },
   "file_extension": ".py",
   "mimetype": "text/x-python",
   "name": "python",
   "nbconvert_exporter": "python",
   "pygments_lexer": "ipython3",
   "version": "3.12.5"
  }
 },
 "nbformat": 4,
 "nbformat_minor": 0
}
